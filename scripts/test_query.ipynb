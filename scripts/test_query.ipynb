{
 "cells": [
  {
   "cell_type": "code",
   "execution_count": 2,
   "metadata": {},
   "outputs": [
    {
     "name": "stdout",
     "output_type": "stream",
     "text": [
      "collections=[]\n"
     ]
    }
   ],
   "source": [
    "import json\n",
    "from qdrant_client import QdrantClient\n",
    "\n",
    "# Buka file config.json dan baca API key\n",
    "with open(\"../cred.json\", \"r\") as file:\n",
    "  config = json.load(file)\n",
    "\n",
    "# Gunakan API key untuk koneksi ke Qdrant Cloud\n",
    "client = QdrantClient(url=config[\"QDRANT_URL\"], api_key=config[\"QDRANT_API_KEY\"])\n",
    "\n",
    "# Cek apakah koneksi berhasil\n",
    "print(client.get_collections())"
   ]
  },
  {
   "cell_type": "code",
   "execution_count": null,
   "metadata": {},
   "outputs": [],
   "source": [
    "import pandas as pd\n",
    "from rank_bm25 import BM25Okapi\n",
    "from nltk.tokenize import word_tokenize"
   ]
  },
  {
   "cell_type": "code",
   "execution_count": null,
   "metadata": {},
   "outputs": [
    {
     "name": "stdout",
     "output_type": "stream",
     "text": [
      "Doc: 4bedroom mediterranean luxury villa ubud rooftop view amazing pool amazing view jungle view pool view tropical villa bali vacation rental group friendly stay instagramable stay long stay trend property private private pool top trending experience perfect blend modern elegance tropical charm mediterranean luxury villa heart ubud feature private pool scenic jungle view rooftop beautifully design interior serene retreat ideal family group nestle close ubuds iconic rice terrace cultural landmark ultimate escape relaxation adventure experience perfect blend modern elegance tropical charm 4bedroom villa heart ubud feature private pool scenic rooftop view beautifully design interior serene retreat ideal family group nestle close ubuds iconic rice terrace cultural landmark ultimate escape relaxation adventure feature kingsize bed ac private pool fully equip kitchen rooftop breathtaking view highspeed wifi private oasis ubud 4bedroom villa ensure topnotch hospitality seamless service span across beautifully design space villa offer serene escape close ubuds cultural hotspot perfectly suited family group 8 people villa boast thoughtfully design space prioritize comfort style whether tranquil retreat cultural exploration villa ideal sanctuary get around ubud easy scooter arrange explore nearby waterfall cultural landmark charming cafe ease living area mediterraneaninspired sanctuary natural texture arch accent warm earthy tone floortoceiling glass door open stunning jungle view create invite atmosphere relaxation entertain live area equip air conditioning add comfort projector smart tv instal enhance entertainment experience bedroom four stylish bedroom feature kingsize bed rattan furnishing soft neutral palette exude coastal charm large window invite natural light offer breathtaking view ubuds lush greenery add privacy convenience bedroom come ensuite bathroom pool area private pool oasis tranquility frame sleek travertine stone lush greenery builtin lounge seat cozy hammock elegant sconce enhance mediterranean ambiance make perfect unwind bali sun kitchen dine fully equip kitchen open shelve natural stone countertop highend appliance rustic wooden dining table provide intimate space share meal warm inviting set rooftop rooftop serene escape design relaxation entertainment overlook breathtaking jungle view equip bbq utensil perfect host sunset gathering friend family unwind sun lounger stargaze telescope challenge companion game chess cozy seating area versatile space offer perfect blend comfort leisure set stunning natural backdrop wifi connectivity stay connect highspeed wifi offer impressive speed 951 mbps download 126 mbps upload connection ideal stream remote work video conferencing stay touch love one please note wifi speed may vary depend number user network traffic nearby location restaurant raw temple vegan vegetarian restaurant 1 minute walk 78 cocoku ubud restaurant 4 minute walk 240 cafe bintang japanese restaurant 7 minute walk 450 kasaba restaurant 6 minute ride 21 km locavore ubud 10 minute ride 34 km tourist attraction ubud palace 6 minute ride 28 km taman kemuda saraswati temple 7 minute ride 29 km sacred monkey forest sanctuary 16 minute ride 47 km cafe heart bean cafe ubud 5 minute ride 19 km maniztutu coffe eatery 5 minute ride 20 km watercress cafe 11 minute ride 35 km clear cafe 11 minute ride 36 km atm atm bank ocbc 9 minute ride 3 km mandiri atm 9 minute ride 3 km atm bank bca 2426 8 minute ride 35 km maybank atm 9 minute ride 36 km laundromat nani laundry 1 minute ride 400 la frond laundry co 4 minute ride 17 km convenience store mart 2 minute ride 800 indomaret suweta 6 minute ride 24 km circle k sriwedari ubud 7 minute ride 25 km pharmacy guardian pharmacy 10 minute ride 31 km apotek kimia farma ubud raya 7 minute ride 32 km guest full access entire villa include private pool rooftop car parking area team available 247 assist stay parking area villa offer ample private car parking space make convenient guest travel vehicle exclusive benefit guest kclub ubud kabana kclub ubud free entry restaurant party scene complimentary drink upon arrival akar restaurant kclub ubud group 13 free sparkle wine signature cocktail per person group 4 free bottle sparkle wine table enjoy ubuds fine dining entertainment show name book claim exclusive perk dropin yoga class discover inner peace rejuvenate body dropin yoga class bali yoga center morning 730 900 evening 415 pm 545 pm price idr 150k per visit join we experience transformative power yoga supportive community scooter rent onsite team assist scooter rental idr 100k 200k per day include helmet ride scooter good way explore ubuds scenic road hide gem clean enjoy daily cleaning service hasslefree stay prefer privacy certain day simply inform team airport pickup service provide airport transfer service ngurah rai international airport rate rp 500000 per trip hasslefree arrival checkin policy early checkin accept accommodate early checkin please plan arrival accordingly offer early checkin luggage dropoff service late night checkin smooth safe arrival recommend check 5 pm late especially consider dark area sunset might challenge online host available 9 6 pm assist late checkout checkout time strict adhering checkout time 11 accept accommodate late checkout please plan departure accordingly luggage dropoff provide luggage storage checkin checkout access information contact detail booking confirm receive exact address direction via google map team contact detail ensure smooth arrival payment method prefer make reservation airbnb airbnb accept follow payment method credit card not credit card apply electronic card issue bank like jenius btpn indonesia digibank dbs | Score: 5.798163709686885\n",
      "Doc: ubuds verdant hideaway pool garden view guest house new list top trend property guesthouse pool surround refresh green palm atmosphere perfect long peaceful quiet place 3 kilometer away center ubud house locate calm peaceful area ubud entire property 3 bedroom villa share other well room feature double bed private kitchen per room private bathroom hot water ac tv outdoor living room share pool experience true essence bali serene ubud retreat modern comfort meet authentic balinese charm own 100 balinese family villa offer place stayit immersion local culture guide warm host mr wira nata bear raise ubud wira know area like back hand loves share insight guest always ready chat provide tip good local spot whether look explore find perfect restaurant genuine hospitality deep respect balinese tradition make stay truly special every morning find wira thoughtfully place mebanten canang around villaa traditional offering infuse peaceful spiritual energy daily ritual beautifully reflect balis cultural richness add authentic touch stay villa perfect blend comfort balinese style enjoy fully equip kitchen cozy living space garden view plush bedroom ultimate relaxation step outside tranquil patio surround lush greenery take dip refresh share pool highspeed wifi stay connected soak beauty ubud whether solo traveler remote worker couple honeymooner property perfectly suited need serene location offer peace privacy reliable internet ensure stay connected paradise stay discover bali eye live every day representative listing listing showcase three unique room layout size offer high level comfort amenity one room include pool view option provide relaxing convenient retreat book stay experience charming space design utmost comfort swimming pool also dip swimming pool share guest beautiful villa laundry provide clothe washing machine not worry many local laundry service around property seaweed laundry ubud bunga laundry ubud locate 34 minute property location wifi probably go like honest possible wifi not 100 reliable wifi bali especially rainy season even though instal good company wifi speed see picture would say wifi work around 40 80 moment hope still enjoy stay explore neighborhood discover balis culture galungan kuningan special discount enjoy discount stay sept 2426 2024 galungan festival oct 45 2024 kuningan team join local festivity inhouse cleaning available period offer complete privacy relax enjoy tranquil stay sept 25th staff unavailable since primarily focus participate galungan prayer ensure respectful balance service tradition immerse balis rich culture experience island beautiful celebration nearby location attraction ubud central 11 min drive monkey forest 15 min drive campuhan ridge walk 12 min drive tegallalang rice terrace 16 min drive goa gajah 20 min drive eat shop resto chef hengki 1 min walk aa juicery cafe 1 min walk bella pizza ubud 2 min walk parq ubud cafe 7 min drive pepito market andong 8 min drive seniman cafe studio 10 min drive near atm 13 min drive private area bedroom living room private kitchen enjoy common area property share villa outdoor pool share pool garden guest parking also park carscooter front property fit 3 car breakfast provide breakfast service use kitchen cook meal monthly stay monthly stay service facility adjustment detail twice week basic cleaning sweep mop week bedsheet towel renewal breakfast gallon water gas cooking provide checkin wise electricity water usage faq carscooter rent onsite team help scooter rental usually cost around idr 100k 150k per day without petrol include 2 helmet full day car rental also available cost idr 600k around usd 47 8 hour include driver gasoline parking fee highway fee entrance fee include additional hour chargeable idr 50k around usd 4 per hour car capacity 6 guest without luggage pick airport 2 hour distance airport assist provide airport pick service cost idr 500k around usd 35 per car driver include gasoline maximum capacity 5 people luggage check policy early checkin accept accommodate early checkin please plan arrival accordingly offer early checkin late night checkin smooth safe arrival recommend check 5 pm late especially consider dark area sunset might challenge online host available 9 6 pm assist kindly provide we estimate arrival time least one day advance d1 assist well late checkout checkout time strict adhering checkout time accept accommodate late checkout please plan departure accordingly pet friendly sorry inform allow pet property airbnb policy airbnb policy state site visit booking confirm safety reason exact address direction detail property give book property payment airbnb accept follow payment method credit card not credit card apply electronic card issue bank like jenius btpn indonesia digibank dbs view airbnb guesthouse kecamatan ubud 492 1 bedroom 1 bed 1 private bath | Score: 5.706738641577537\n",
      "Doc: picturesque cottage heart ubuds nature jungle view villa bali vacation rental good deal note price valid march 2023 coconut tree rise mistdrenched deck wellsturdy wood floor timber cottage near cold relax village lounge refresh forest view pool cook away kitchen simply admire natural scenery ubud villa busy road mean nice meditation retreat relax mode still central ubud get 1br withprivate bathroom full kitchen share pool tv wifi 20mbps private property 8 min drive central ubud get ready swim inside forestview share swimming pool calmness relax atmosphere ubud villa also pet friendly pretty isolated small insect animal like gecko occasionally area bedroom private comfy bedroom jungle view bed size 180x200 cm also private bathroom clean towel basic amenity would love admire nature jungle big window room friendly staff onsite staff train friendly helpful take care need ready certain hour online host online host also go ready take care need 9 am12 pool pool public pool share guest stay property pool share 1 villa full kitchen provide full kitchen cook show photo collection kitchen equip refrigerator stove pan rice cooker want provide dining table make romantic dinner partner extra guest extra charge 150k per night another guest stay include bed linen pillow etc monthly stay monthly stay service facility adjustment detail twice week basic cleaning sweep mop week bedsheet towel renewal gallon water gas cooking provide checkin include electricity bill please wise use breakfast monthly stay restaurant would restaurant nearby within walking distance near one would around 1 minute walk also not worry come checkin leave luggage explore nearby area nearby location eat shop 3 min drive warung mina ubud seafood resto 4 min drive fu shou noodle club chinese noodle resto 5 min drive pepito andong ubud supermarket tourist attraction 12 min drive saraswati temple 12 min drive sacred monkey forest sanctuary 14 min drive campuhan ridge walk 14 min drive kajeng rice field 28 min drive nearby waterfall taman sari tibumana goa rang reng kanto lampo other other 2 min drive ubud fitness center gym 5 min drive near gas station 10 min drive ubud center cottage private enjoy include bedroom private kitchen living room swimming pool share facility enjoy alongside guest currently 2 house use pool would restaurant nearby within walking distance near one would around 1 minute walking also not worry come checkin leave luggage explore nearby area parking space parking spot car access go pretty narrow not worry staff guide safely wifi probably go like honest possible wifi not 100 reliable wifi bali especially rainy season even though instal good company wifi speed see picture would say wifi work around 40 80 moment hope still enjoy stay explore neighborhood discover balis culture detail note please inform cottage locate pretty seclude ubud jungle area not surprised find friend like insect small gecko ecosystem airbnbs regulation host guest may exchange address contact detail reservation confirm faq breakfast breakfast include booking confirm october 11 2022 2 pm pet allow however please inform keep villa clean not damage villa stuff capacity villa accommodation allow 2 person extra charge additional person please note not provide extra bed car rental rent car day staff coordinate help pickup service 15 2 hour airport depend traffic assist provide airport pick service additional cost idr 450k around usd 28 per car driver include gasoline maximum capacity 5 people luggage driver wait arrival hall hold signage name swimming pool pool hot water hot water bathroom early checkin basic rule standard checkin 1400 strict standard checkout 1200 strict please note can not arrive early leave luggage want check early please follow policy early check early checkin subject availability room guest morning checkin day may able speed checkin time extra charge detail early check 1400 25 nightly rate early check 1000 50 nightly rate early check 800 100 nightly rate please inform we least 24 hour prior time want early check otherwise can not accommdate early check late checkin want inform checkin time 2 pm flight arrive midnight help arrange driver help checkin infant allow long infant okay share bed okay yes ac place number ropertie currently 1 available cottage rent insect animal villa surround beauty nature important note close great outdoor may result minor issue increase insect animal cleanliness addition pool water may always crystal clear depict picture due proximity nature however dedicated staff always work maintain high standard cleanliness hygiene comfort safety minor inconvenience small price pay benefit experience villa enjoy ultimate privacy seclusion oasis pool provide peaceful escape stress everyday life soak sun relax let sound nature soothe soul | Score: 5.533659204279356\n",
      "Doc: tranquil 3br villa jimbaran wifi pool residential villa group friendly stay instagramable stay long stay trend property private remote work friendly note price valid march 2023 modern furnished design villa jimbaran equip private pool ample space work tranquility place offer quiet getaway city locate residential area jimbaran villa 15minute drive away beach 3 bedroom bathroom ac bedroom tv wifi 17mbps full kitchen garage workspace 3br home quite complete amenity ideal extended stay villa locate jimbaran close many beach tourist attraction nice place relax holiday also quiet space work bedroom villa 3 airconditione bedroom 6 people first family room king size bed large bathroom bathtub second deluxe room first floor 2 single bed third room second deluxe room second floor kingsize bed one balcony amazing view living room sofa living room beside kitchen watch tv relax without problem full kitchen kitchen fully equip use stay cooking make easy information villa villa generally good condition minor flaw may need attention instance crack wall certain area may require repair however minor issue easy fix detract overall appeal villa overall villa minor flaw beautiful invite home sure impress nearby place garuda wisnu kencana 5 min walk pepito supermarket 5 min walk jimbaran beach 10 minute drive melasti beach several famous beach club 13 min drive sidewalk mall 15 min walk5 min drive bingin beach 18 min drive international airport 30 minute car parking space carport fit 1 car 6 motorbike also park car right front property property visit base airbnb policy property visit booking confirm detail property give book property cleaning service cleaning schedule three day housekeeper housewife family need take care home although professional housekeeper like 5star hotel try good provide good cleaning service monthly stay monthly stay service facility adjustment detail twice week basic cleaning sweep mop week bedsheet towel renewal breakfast gallon water gas cooking provide checkin include electricity bill maximum 2 million month faq room cleaning room cleaning do every 3 day pool water fountain pool circulate automatically timer machine not worry breakfast want inform breakfast include extra bed unfortunately not extra bed private room 6 guest money deposit idr500000 deposit require upon arrival stay villa disinfection always disinfect villa 10 guest check wifi probably go like honest possible wifi not 100 reliable wifi bali especially rainy season even though instal good company wifi speed see picture would say wifi work around 40 80 moment hope still enjoy stay explore neighborhood discover balis culture scooter rent onsite team help scooter rental usually cost around idr 80k 100k per day without petrol include 2 helmet car rent full day car rental also available cost idr 600k around usd 47 8 hour include driver gasoline parking fee highway fee entrance fee include additional hour chargeable idr 50k around usd 4 per hour car capacity 6 guest without luggage pickup service 50 60 minute airport assist provide airport pick service cost idr 450k around usd 31 per car driver include gasoline maximum capacity 5 people luggage driver wait arrival hall hold signage name early checkin basic rule standard checkin 1400 strict standard checkout 1200 strict please note can not arrive early leave luggage want check early please follow policy early check early checkin subject availability room guest morning checkin day may able speed checkin time extra charge detail early check 1400 25 nightly rate early check 1000 50 nightly rate early check 800 100 nightly rate please inform we least 24 hour prior time want early check otherwise can not accommdate early check late checkout please inform checkout time 12noon late checkout subject availability might involve extra charge well might able promise late checkout service point however may leave room pack luggage noon time onsite team start clean room late checkin 24hrs onsite staff please inform we eta help late checkin payment method prefer take reservation airbnb airbnb accept follow payment method credit card pay pal not credit card apply electronic card issue bank like jenius btpn indonesia digibank dbs googl pay use debit card | Score: 3.4748073697732402\n",
      "Doc: breathtake hillside private cabin lembongan guest house ocean view good deal nusa penida vacation rental enchanting private cabin nusa lembongan ultimate seaside hideaway experience serenity blue paradise island nusa lembongan charming ecotreehouse hostel nestle hill nusa lembongan bali offering breathtake ocean view ecofriendly practice discover unique blend comfort tranquility adventure immerse island lifestyle double bed ac ocean view terrace plunge pool breakfast tranquil hostel retreat perch gracefully hill offering breathtake view escape serenity private cabin nestle peaceful surrounding provide perfect sanctuary traveler seek peace relaxation please note scooter essential reach property explore nearby attraction highly recommend check nearby place list description feel free ask onsite staff scooter rental ensure seamless adventurous stay share pool take refreshing dip share pool perfect spot cool relax pool area beautifully design blend natural surrounding offer serene environment swim lounge water socialize guest share kitchen share kitchen available guest use whether prepare simple meal try new recipe kitchen also serve great place meet connect fellow traveler share meal share exterior share exterior space design enhance experience tranquil surrounding garden hammock communal terrace find plenty spot relax enjoy peaceful environment exterior area perfect read book conversation simply soak natural beauty hostel retreat wifi villa equip highspeed wifi ideal remote worker entertainment need connection speed reach 12 mbps ensure stay connected throughout stay good provide consistent service usually available without interruption please note balis rainy season may experience occasional interruption partner lead service provider minimize inconvenience maintain quality service trust enjoy every aspect stay modern amenity rich culture bali galungan kuningan special discount enjoy discount stay sept 2426 2024 galungan festival oct 45 2024 kuningan team join local festivity inhouse cleaning available period offer complete privacy relax enjoy tranquil stay immerse balis rich culture experience island beautiful celebration nearby location tourist attraction 750 3 min ride yellow bridge 11 km 3 min ride galagala underground house 27 km 9 min ride devil tear eaterie 210 3 min walk cat island lembongan 200 3 min walk seaweed seafood grill 700 2 min ride mama mia bar grill 33 km 10 min ride deck cafe bar 45 km 13 min ride ohanas beach club restaurant boutique diving snorkeling service 280 4 min walk twin island dive 800 3 min ride sea island excursion snorkeling trip 14 km 5 min ride ceningan diver wellness 180 3 min walk widari spa 230 3 min walk seaview spa 750 3 min ride two angel lembongan spa 24 km 7 min ride k gym daily need 160 2 min walk prasti mini mart 21 km 7 min ride atm bni 550 2 min ride bip laundry nusa lembongan 29 km 9 min ride ditya cell 32 km 9 min ride lembo minimart stay access wonderful amenity facility take refreshing dip unique share pool simply bask sun beanbag feel free explore beautiful surrounding enjoy tranquility lembongan offer venture nearby attraction activity unforgettable island adventure friendly staff available assist recommendation ensure make time lembongan road access road lead property uphill tricky navigate especially unfamiliar ride uphill road condition advisable use scooter car steep slope dangerous exercise extreme caution confidence handle incline convenience offer pickup service please check list description detail pickup service price list pickup service nusa lembongan mushroom beach lembongan car 150k 3 people 200k 3 people bike 50k per person yellow bridge car 100k 3 people 150k 3 people bike 50k per person jungutbatu car 150k 3 people 200k 3 people bike 50k per person mangrove jungutbatu car 200k 4 people flat rate bike 100k per person scooter rent onsite staff assist scooter usually cost around idr 90k150k per day without petrol include 2 helmet surf spot nusa lembongan one good place world surf island variety break beginnerfriendly wave challenging one experienced surfer recommend go surf spot shipwreck razor laceration playground ceningan want learn surf surf trip check surf lembongan website payment airbnb accept follow payment method credit card not credit card apply electronic card issue bank like jenius btpn indonesia digibank dbs view airbnb cabin nusa lembongan 456 1 bedroom 1 bed 1 private bath | Score: 1.7277266895830405\n"
     ]
    }
   ],
   "source": [
    "# Load data dari CSV\n",
    "df = pd.read_csv(\"../data/desc_processed_penginapan_bukitvista.csv\")  # Pastikan nama file sesuai\n",
    "documents = df[\"processed_description\"].astype(str).tolist()  # Ambil kolom deskripsi\n",
    "\n",
    "# Tokenisasi tanpa preprocessing tambahan (karena sudah bersih)\n",
    "tokenized_corpus = [word_tokenize(doc.lower()) for doc in documents]\n",
    "\n",
    "# Inisialisasi BM25\n",
    "bm25 = BM25Okapi(tokenized_corpus)\n",
    "\n",
    "# Fungsi pencarian dengan BM25\n",
    "def search_bm25(query, top_n=5):\n",
    "  query_tokens = word_tokenize(query.lower())\n",
    "  scores = bm25.get_scores(query_tokens)\n",
    "  ranked_results = sorted(zip(documents, scores), key=lambda x: x[1], reverse=True)\n",
    "  return ranked_results[:top_n]\n",
    "\n",
    "# Contoh pencarian\n",
    "query = \"sea view ubud\"\n",
    "results = search_bm25(query)\n",
    "\n",
    "# Tampilkan hasil\n",
    "for doc, score in results:\n",
    "  print(f\"Doc: {doc} | Score: {score}\")"
   ]
  },
  {
   "cell_type": "code",
   "execution_count": null,
   "metadata": {},
   "outputs": [
    {
     "name": "stdout",
     "output_type": "stream",
     "text": [
      "<class 'pandas.core.frame.DataFrame'>\n",
      "RangeIndex: 51 entries, 0 to 50\n",
      "Data columns (total 12 columns):\n",
      " #   Column                 Non-Null Count  Dtype  \n",
      "---  ------                 --------------  -----  \n",
      " 0   author                 51 non-null     object \n",
      " 1   description            51 non-null     object \n",
      " 2   address                51 non-null     object \n",
      " 3   bedrooms               51 non-null     float64\n",
      " 4   rooms                  51 non-null     float64\n",
      " 5   bathrooms              51 non-null     float64\n",
      " 6   garages                51 non-null     float64\n",
      " 7   max_guests             51 non-null     float64\n",
      " 8   months_since           51 non-null     float64\n",
      " 9   update_days_ago        51 non-null     float64\n",
      " 10  price_per_night        51 non-null     float64\n",
      " 11  processed_description  51 non-null     object \n",
      "dtypes: float64(8), object(4)\n",
      "memory usage: 4.9+ KB\n"
     ]
    }
   ],
   "source": [
    "from qdrant_client.models import PointStruct\n",
    "\n",
    "# Konversi data ke format Qdrant\n",
    "points = [\n",
    "  PointStruct(\n",
    "    id=i,\n",
    "    vector=row[\"vector\"],  # Gunakan vektor hasil embedding\n",
    "    payload={\n",
    "      \"author\": row[\"author\"],\n",
    "      \"address\": row[\"address\"],\n",
    "      \"processed_description\": row[\"processed_description\"],\n",
    "      \"numeric_features\": [\n",
    "        row[\"bedrooms\"], row[\"rooms\"], row[\"bathrooms\"], row[\"garages\"],\n",
    "        row[\"max_guests\"], row[\"months_since\"], row[\"update_days_ago\"], row[\"price_per_night\"]\n",
    "      ]\n",
    "    }\n",
    "  ) for i, row in df.iterrows()\n",
    "]\n",
    "\n",
    "# Insert ke Qdrant\n",
    "client.upsert(collection_name=\"penginapan_bukitvista\", points=points)\n",
    "\n",
    "print(\"Data berhasil dimasukkan ke Qdrant!\")\n",
    "\n",
    "df.info()"
   ]
  }
 ],
 "metadata": {
  "kernelspec": {
   "display_name": "venv",
   "language": "python",
   "name": "python3"
  },
  "language_info": {
   "codemirror_mode": {
    "name": "ipython",
    "version": 3
   },
   "file_extension": ".py",
   "mimetype": "text/x-python",
   "name": "python",
   "nbconvert_exporter": "python",
   "pygments_lexer": "ipython3",
   "version": "3.11.6"
  }
 },
 "nbformat": 4,
 "nbformat_minor": 2
}
