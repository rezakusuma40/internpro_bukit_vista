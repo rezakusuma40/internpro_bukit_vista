{
 "cells": [
  {
   "cell_type": "code",
   "execution_count": null,
   "metadata": {
    "vscode": {
     "languageId": "plaintext"
    }
   },
   "outputs": [],
   "source": [
    "import json\n",
    "from qdrant_client import QdrantClient\n",
    "\n",
    "# Buka file config.json dan baca API key\n",
    "with open(\"config.json\", \"r\") as file:\n",
    "  config = json.load(file)\n",
    "\n",
    "# Gunakan API key untuk koneksi ke Qdrant Cloud\n",
    "client = QdrantClient(url=config[\"QDRANT_URL\"], api_key=config[\"QDRANT_API_KEY\"])\n",
    "\n",
    "# Cek apakah koneksi berhasil\n",
    "print(client.get_collections())"
   ]
  }
 ],
 "metadata": {
  "language_info": {
   "name": "python"
  }
 },
 "nbformat": 4,
 "nbformat_minor": 2
}
